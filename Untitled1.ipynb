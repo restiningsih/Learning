{
 "cells": [
  {
   "cell_type": "code",
   "execution_count": 25,
   "id": "f83a853e-759b-4c38-9103-5d69fbf31a21",
   "metadata": {},
   "outputs": [],
   "source": [
    "import streamlit as st\n",
    "import pandas as pd\n",
    "import numpy as np\n",
    "import calendar"
   ]
  },
  {
   "cell_type": "code",
   "execution_count": 55,
   "id": "6cbd816e-4c80-48dc-8d8f-1f6b572d27cb",
   "metadata": {},
   "outputs": [],
   "source": [
    "def load_data(sepeda):\n",
    "    sewa_sepeda = pd.read_csv(r\"C:\\Users\\ASUS\\Downloads\\Bike-sharing-dataset\\sewa_sepeda.csv\")\n",
    "    return sewa_sepeda"
   ]
  },
  {
   "cell_type": "code",
   "execution_count": 56,
   "id": "3ec99fdd-3af7-4923-a344-b4ac58372197",
   "metadata": {},
   "outputs": [],
   "source": [
    "def filter_by_month(sewa_sepeda, months):\n",
    "    bulan = list(calendar.month_name).index(months)\n",
    "    filter_data = sewa_sepeda[sewa_sepeda['mnth_x'].dt.month == bulan]\n",
    "    return filter_data"
   ]
  },
  {
   "cell_type": "code",
   "execution_count": 59,
   "id": "3684dae9-e20d-4eca-a79d-6a44a3dd417b",
   "metadata": {},
   "outputs": [],
   "source": [
    "def main():\n",
    "    st.title('Data Bisnis Sewa Sepeda')\n",
    "\n",
    "    #menambahkan sidebar\n",
    "    st.sidebar.header('Kalender :D')\n",
    "    bulan1 = st.sidebar.selectbox(\"Pilih bulan\", list(calendar.month_name)[1:])\n",
    "    tahun = 2011\n",
    "    tanggalan = list(calendar.month_name).index(bulan1)\n",
    "    kalender1 = calendar.monthcalendar(tahun, tanggalan)\n",
    "    st.sidebar.write(\"Kalender %s\" %bulan1)\n",
    "    st.sidebar.write(\"Minggu sen sel rab kam jum sab\")\n",
    "    for week in kalender1:\n",
    "        st.sidebar.write(week)\n",
    "\n",
    "    sepeda = (r\"C:\\Users\\ASUS\\Downloads\\Bike-sharing-dataset\\sewa_sepeda.csv\")\n",
    "    sewa_sepeda = load_data(sepeda)\n",
    "    sewa_sepeda['mnth_x'] = pd.to_datetime(sewa_sepeda['mnth_x'])\n",
    "\n",
    "    filter_data = filter_by_month(sewa_sepeda, bulan1)\n",
    "\n",
    "    st.write('Data Awal: ')\n",
    "    st.write(sewa_sepeda)\n",
    "    \n",
    "    st.write('Statistik Deskriptif:')\n",
    "    st.write(filter_data.describe())\n",
    "\n",
    "    # Bar chart\n",
    "    st.write('Bar Chart:')\n",
    "    grafik1 = filter_data[['season_x', 'cnt_y']].groupby('season_x').sum()\n",
    "    st.bar_chart(grafik1)\n",
    "\n",
    "    # Line chart\n",
    "    st.write('Line Chart:')\n",
    "    jumlah_sewa = filter_data.groupby('mnth_x')['cnt_y'].sum() \n",
    "    st.line_chart(jumlah_sewa)"
   ]
  },
  {
   "cell_type": "code",
   "execution_count": 60,
   "id": "ecfa3807-e40f-4707-980f-f00b59877203",
   "metadata": {},
   "outputs": [
    {
     "name": "stderr",
     "output_type": "stream",
     "text": [
      "2024-03-04 21:56:22.935 Serialization of dataframe to Arrow table was unsuccessful due to: (\"Could not convert Timestamp('1970-01-01 00:00:00.000000006') with type Timestamp: tried to convert to int64\", 'Conversion failed for column mnth_x with type object'). Applying automatic fixes for column types to make the dataframe Arrow-compatible.\n"
     ]
    }
   ],
   "source": [
    "if __name__ == \"__main__\":\n",
    "    main()"
   ]
  },
  {
   "cell_type": "code",
   "execution_count": null,
   "id": "44156c8f-cf79-4ce0-97d8-671455fe1bc2",
   "metadata": {},
   "outputs": [],
   "source": []
  },
  {
   "cell_type": "code",
   "execution_count": null,
   "id": "e3052d93-18bb-47ea-baea-048cb6624d11",
   "metadata": {},
   "outputs": [],
   "source": []
  }
 ],
 "metadata": {
  "kernelspec": {
   "display_name": "Python 3 (ipykernel)",
   "language": "python",
   "name": "python3"
  },
  "language_info": {
   "codemirror_mode": {
    "name": "ipython",
    "version": 3
   },
   "file_extension": ".py",
   "mimetype": "text/x-python",
   "name": "python",
   "nbconvert_exporter": "python",
   "pygments_lexer": "ipython3",
   "version": "3.9.18"
  }
 },
 "nbformat": 4,
 "nbformat_minor": 5
}
